{
 "cells": [
  {
   "cell_type": "code",
   "execution_count": 0,
   "metadata": {
    "application/vnd.databricks.v1+cell": {
     "cellMetadata": {
      "byteLimit": 2048000,
      "rowLimit": 10000
     },
     "inputWidgets": {},
     "nuid": "04c02b5e-26bf-46ad-8c14-8c9f10b9447b",
     "showTitle": false,
     "tableResultSettingsMap": {},
     "title": ""
    }
   },
   "outputs": [],
   "source": [
    "spark.sql(\"DESCRIBE tb_people\").show()\n",
    "spark.sql(\"SELECT * FROM tb_people ORDER BY id\").show()"
   ]
  },
  {
   "cell_type": "code",
   "execution_count": 0,
   "metadata": {
    "application/vnd.databricks.v1+cell": {
     "cellMetadata": {
      "byteLimit": 2048000,
      "rowLimit": 10000
     },
     "inputWidgets": {},
     "nuid": "d0cfd364-4f7f-4fac-accc-e6cc9c3843e5",
     "showTitle": false,
     "tableResultSettingsMap": {},
     "title": ""
    }
   },
   "outputs": [],
   "source": [
    "df_without_one_col = spark.sql(\"SELECT 3 AS id, 'Ulisses Luz' AS name\")\n",
    "df_without_one_col.printSchema()\n",
    "df_without_one_col.show()"
   ]
  },
  {
   "cell_type": "code",
   "execution_count": 0,
   "metadata": {
    "application/vnd.databricks.v1+cell": {
     "cellMetadata": {
      "byteLimit": 2048000,
      "rowLimit": 10000
     },
     "inputWidgets": {},
     "nuid": "5cb05947-9807-4faa-a9b0-bff46a7176d5",
     "showTitle": false,
     "tableResultSettingsMap": {},
     "title": ""
    }
   },
   "outputs": [],
   "source": [
    "(\n",
    "    df_without_one_col.write\n",
    "                         .mode('append')\n",
    "                         .saveAsTable('tb_people')\n",
    ")"
   ]
  },
  {
   "cell_type": "code",
   "execution_count": 0,
   "metadata": {
    "application/vnd.databricks.v1+cell": {
     "cellMetadata": {
      "byteLimit": 2048000,
      "rowLimit": 10000
     },
     "inputWidgets": {},
     "nuid": "e3847629-4e23-444f-8fc1-492b52ee5a18",
     "showTitle": false,
     "tableResultSettingsMap": {},
     "title": ""
    }
   },
   "outputs": [],
   "source": [
    "spark.sql(\"SELECT * FROM tb_people ORDER BY id\").show()"
   ]
  },
  {
   "cell_type": "code",
   "execution_count": 0,
   "metadata": {
    "application/vnd.databricks.v1+cell": {
     "cellMetadata": {
      "byteLimit": 2048000,
      "rowLimit": 10000
     },
     "inputWidgets": {},
     "nuid": "540fd258-a929-4a36-b764-7468b36044b3",
     "showTitle": false,
     "tableResultSettingsMap": {},
     "title": ""
    }
   },
   "outputs": [],
   "source": [
    "df_with_new_col = spark.sql(\"\"\"\n",
    "    SELECT \n",
    "        4 AS id, \n",
    "        'Nicole Gode' AS name, \n",
    "        DATE('1997-11-13') AS birth, \n",
    "        'female' AS gender\n",
    "\"\"\")\n",
    "df_with_new_col.printSchema()\n",
    "df_with_new_col.show()"
   ]
  },
  {
   "cell_type": "code",
   "execution_count": 0,
   "metadata": {
    "application/vnd.databricks.v1+cell": {
     "cellMetadata": {
      "byteLimit": 2048000,
      "rowLimit": 10000
     },
     "inputWidgets": {},
     "nuid": "a8ef76a2-22ce-40a6-ad1d-9d2479e80c0b",
     "showTitle": false,
     "tableResultSettingsMap": {},
     "title": ""
    }
   },
   "outputs": [],
   "source": [
    "df_with_new_col.write \\\n",
    "    .mode('append') \\\n",
    "    .saveAsTable('tb_people')"
   ]
  },
  {
   "cell_type": "code",
   "execution_count": 0,
   "metadata": {
    "application/vnd.databricks.v1+cell": {
     "cellMetadata": {
      "byteLimit": 2048000,
      "rowLimit": 10000
     },
     "inputWidgets": {},
     "nuid": "e85ed5a1-2144-40fd-a6b7-5960af5c05d7",
     "showTitle": false,
     "tableResultSettingsMap": {},
     "title": ""
    }
   },
   "outputs": [],
   "source": [
    "df_with_diff_schema_col = spark.sql(\"\"\"\n",
    "    SELECT \n",
    "        4 AS id, \n",
    "        'John Smith' AS name, \n",
    "        '1985-08-23' AS birth\n",
    "\"\"\")\n",
    "df_with_diff_schema_col.printSchema()\n",
    "df_with_diff_schema_col.show()"
   ]
  },
  {
   "cell_type": "code",
   "execution_count": 0,
   "metadata": {
    "application/vnd.databricks.v1+cell": {
     "cellMetadata": {
      "byteLimit": 2048000,
      "rowLimit": 10000
     },
     "inputWidgets": {},
     "nuid": "0a1322ed-a09a-4197-a6a7-5d5a4432388c",
     "showTitle": false,
     "tableResultSettingsMap": {},
     "title": ""
    }
   },
   "outputs": [],
   "source": [
    "(\n",
    "    df_with_diff_schema_col.write\n",
    "        .mode('append')\n",
    "        .saveAsTable('tb_people')\n",
    ")"
   ]
  },
  {
   "cell_type": "code",
   "execution_count": 0,
   "metadata": {
    "application/vnd.databricks.v1+cell": {
     "cellMetadata": {
      "byteLimit": 2048000,
      "rowLimit": 10000
     },
     "inputWidgets": {},
     "nuid": "1b7aefcb-ee71-4dbd-ba5d-7521fe558597",
     "showTitle": false,
     "tableResultSettingsMap": {},
     "title": ""
    }
   },
   "outputs": [],
   "source": [
    "df_with_uppercase_col = spark.sql(\"\"\"\n",
    "    SELECT \n",
    "        4 AS ID, \n",
    "        'John Smith' AS NAME, \n",
    "        DATE('1985-08-23') AS BIRTH\n",
    "\"\"\")\n",
    "df_with_uppercase_col.printSchema()\n",
    "df_with_uppercase_col.show()"
   ]
  },
  {
   "cell_type": "code",
   "execution_count": 0,
   "metadata": {
    "application/vnd.databricks.v1+cell": {
     "cellMetadata": {
      "byteLimit": 2048000,
      "rowLimit": 10000
     },
     "inputWidgets": {},
     "nuid": "5f419e28-47e1-4a46-adee-fe22cf62dcef",
     "showTitle": false,
     "tableResultSettingsMap": {},
     "title": ""
    }
   },
   "outputs": [],
   "source": [
    "(\n",
    "    df_with_uppercase_col.write\n",
    "        .mode('append')\n",
    "        .saveAsTable('tb_people')\n",
    ")\n",
    "\n",
    "spark.sql(\"SELECT * FROM tb_people ORDER BY id\").show()"
   ]
  }
 ],
 "metadata": {
  "application/vnd.databricks.v1+notebook": {
   "computePreferences": null,
   "dashboards": [],
   "environmentMetadata": {
    "base_environment": "",
    "environment_version": "3"
   },
   "inputWidgetPreferences": null,
   "language": "python",
   "notebookMetadata": {
    "mostRecentlyExecutedCommandWithImplicitDF": {
     "commandId": 5885256096017228,
     "dataframes": [
      "_sqldf"
     ]
    },
    "pythonIndentUnit": 4
   },
   "notebookName": "02. Enforcing and Evolving Delta Table Schema",
   "widgets": {}
  },
  "language_info": {
   "name": "python"
  }
 },
 "nbformat": 4,
 "nbformat_minor": 0
}
