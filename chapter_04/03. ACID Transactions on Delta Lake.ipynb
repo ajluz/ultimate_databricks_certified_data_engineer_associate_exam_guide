{
 "cells": [
  {
   "cell_type": "markdown",
   "metadata": {
    "application/vnd.databricks.v1+cell": {
     "cellMetadata": {
      "byteLimit": 2048000,
      "rowLimit": 10000
     },
     "inputWidgets": {},
     "nuid": "56069121-93ba-4a47-af0e-4b0dc8089d53",
     "showTitle": false,
     "tableResultSettingsMap": {},
     "title": ""
    }
   },
   "source": [
    "# Tracking Changes in a Delta Table"
   ]
  },
  {
   "cell_type": "code",
   "execution_count": 0,
   "metadata": {
    "application/vnd.databricks.v1+cell": {
     "cellMetadata": {
      "byteLimit": 2048000,
      "implicitDf": true,
      "rowLimit": 10000
     },
     "inputWidgets": {},
     "nuid": "4311824b-ed79-4202-914e-1fa35dc7602b",
     "showTitle": false,
     "tableResultSettingsMap": {},
     "title": ""
    }
   },
   "outputs": [],
   "source": [
    "spark.sql('DESCRIBE HISTORY tb_people').display()"
   ]
  },
  {
   "cell_type": "markdown",
   "metadata": {
    "application/vnd.databricks.v1+cell": {
     "cellMetadata": {
      "byteLimit": 2048000,
      "rowLimit": 10000
     },
     "inputWidgets": {},
     "nuid": "b93d5ba7-d8f7-4ced-8dfd-7164b0b1bd8b",
     "showTitle": false,
     "tableResultSettingsMap": {},
     "title": ""
    }
   },
   "source": [
    "# Concurrent Operations on Delta Tables"
   ]
  },
  {
   "cell_type": "markdown",
   "metadata": {
    "application/vnd.databricks.v1+cell": {
     "cellMetadata": {
      "byteLimit": 2048000,
      "rowLimit": 10000
     },
     "inputWidgets": {},
     "nuid": "272c1231-df4f-4bf4-9f97-333d1e33f945",
     "showTitle": false,
     "tableResultSettingsMap": {},
     "title": ""
    }
   },
   "source": [
    "### Multiple Concurrent INSERTs"
   ]
  },
  {
   "cell_type": "code",
   "execution_count": 0,
   "metadata": {
    "application/vnd.databricks.v1+cell": {
     "cellMetadata": {
      "byteLimit": 2048000,
      "rowLimit": 10000
     },
     "inputWidgets": {},
     "nuid": "3661fdc3-e70c-49a9-b1ad-03c94d57a826",
     "showTitle": false,
     "tableResultSettingsMap": {},
     "title": ""
    }
   },
   "outputs": [],
   "source": [
    "import threading \n",
    "def execute_parallel_commands(commands):\n",
    "    def execute_command(command): \n",
    "        print(f'executing: [{command}] ...')\n",
    "        spark.sql(command)\n",
    "        print(f'command: [{command}] have finished!')\n",
    "\n",
    "    threads = []\n",
    "    for command in commands: \n",
    "        thread = threading.Thread(target=execute_command, args=(command,))\n",
    "        thread.start()\n",
    "        threads.append(thread)\n",
    " \n",
    "    for thread in threads: \n",
    "        thread.join()"
   ]
  },
  {
   "cell_type": "code",
   "execution_count": 0,
   "metadata": {
    "application/vnd.databricks.v1+cell": {
     "cellMetadata": {
      "byteLimit": 2048000,
      "rowLimit": 10000
     },
     "inputWidgets": {},
     "nuid": "9121af66-d186-4079-8594-304012bd755c",
     "showTitle": false,
     "tableResultSettingsMap": {},
     "title": ""
    }
   },
   "outputs": [],
   "source": [
    "multiple_inserts = [\n",
    "  \"INSERT INTO tb_people (id, name, birth, gender, ssn) VALUES (7, 'Mary', '1999-01-01', 'female', '987-11-34')\",\n",
    "  \"INSERT INTO tb_people (id, name, birth, gender, ssn) VALUES (8, 'John', '1999-12-01', 'male', '987-65-43')\",\n",
    "]\n",
    "\n",
    "execute_parallel_commands(multiple_inserts)"
   ]
  },
  {
   "cell_type": "code",
   "execution_count": 0,
   "metadata": {
    "application/vnd.databricks.v1+cell": {
     "cellMetadata": {
      "byteLimit": 2048000,
      "implicitDf": true,
      "rowLimit": 10000
     },
     "inputWidgets": {},
     "nuid": "b634ac6f-a53c-456b-99af-1983fbad3093",
     "showTitle": false,
     "tableResultSettingsMap": {},
     "title": ""
    }
   },
   "outputs": [],
   "source": [
    "spark.sql('SELECT * FROM tb_people WHERE id IN (7,8)').show()"
   ]
  },
  {
   "cell_type": "code",
   "execution_count": 0,
   "metadata": {
    "application/vnd.databricks.v1+cell": {
     "cellMetadata": {
      "byteLimit": 2048000,
      "rowLimit": 10000
     },
     "inputWidgets": {},
     "nuid": "67d61893-e42e-4923-b0c9-3c5af30914b4",
     "showTitle": false,
     "tableResultSettingsMap": {},
     "title": ""
    }
   },
   "outputs": [],
   "source": [
    "spark.sql(\"\"\"\n",
    "    DESCRIBE HISTORY tb_people\n",
    "\"\"\").limit(2).select('version','operation','operationMetrics').show()"
   ]
  },
  {
   "cell_type": "markdown",
   "metadata": {
    "application/vnd.databricks.v1+cell": {
     "cellMetadata": {
      "byteLimit": 2048000,
      "rowLimit": 10000
     },
     "inputWidgets": {},
     "nuid": "a3dbadd0-a373-4db6-a021-1dbc53a8cf6d",
     "showTitle": false,
     "tableResultSettingsMap": {},
     "title": ""
    }
   },
   "source": [
    "### Concurrent INSERTs and UPDATEs"
   ]
  },
  {
   "cell_type": "code",
   "execution_count": 0,
   "metadata": {
    "application/vnd.databricks.v1+cell": {
     "cellMetadata": {
      "byteLimit": 2048000,
      "rowLimit": 10000
     },
     "inputWidgets": {},
     "nuid": "58b5e883-d1da-461c-8ace-8c3faa4b1712",
     "showTitle": false,
     "tableResultSettingsMap": {},
     "title": ""
    }
   },
   "outputs": [],
   "source": [
    "insert_and_update = [\n",
    "  \"INSERT INTO tb_people (id, name, birth, gender, ssn) VALUES (9, 'Dexter Morgan', '1971-02-01', 'male', '222-33-34')\",\n",
    "  \"UPDATE tb_people SET name = 'Mary Jones' WHERE id = 7\"\n",
    "]\n",
    "\n",
    "execute_parallel_commands(insert_and_update)"
   ]
  },
  {
   "cell_type": "code",
   "execution_count": 0,
   "metadata": {
    "application/vnd.databricks.v1+cell": {
     "cellMetadata": {
      "byteLimit": 2048000,
      "rowLimit": 10000
     },
     "inputWidgets": {},
     "nuid": "9443b5bc-3d9a-41d1-8e25-5eaa88c98a27",
     "showTitle": false,
     "tableResultSettingsMap": {},
     "title": ""
    }
   },
   "outputs": [],
   "source": [
    "spark.sql('SELECT * FROM tb_people WHERE id IN (7,9)').show()"
   ]
  },
  {
   "cell_type": "code",
   "execution_count": 0,
   "metadata": {
    "application/vnd.databricks.v1+cell": {
     "cellMetadata": {
      "byteLimit": 2048000,
      "rowLimit": 10000
     },
     "inputWidgets": {},
     "nuid": "ed59d9dc-f19e-4bba-a616-a3a3a93c85f5",
     "showTitle": false,
     "tableResultSettingsMap": {},
     "title": ""
    }
   },
   "outputs": [],
   "source": [
    "spark.sql(\"\"\"\n",
    "    DESCRIBE HISTORY tb_people\n",
    "\"\"\").limit(2).select('version','operation','operationMetrics').show()"
   ]
  },
  {
   "cell_type": "markdown",
   "metadata": {
    "application/vnd.databricks.v1+cell": {
     "cellMetadata": {
      "byteLimit": 2048000,
      "rowLimit": 10000
     },
     "inputWidgets": {},
     "nuid": "9126ac4f-de84-4edd-a86a-db4bf430fd6b",
     "showTitle": false,
     "tableResultSettingsMap": {},
     "title": ""
    }
   },
   "source": [
    "### Multiple Concurrent Changes"
   ]
  },
  {
   "cell_type": "code",
   "execution_count": 0,
   "metadata": {
    "application/vnd.databricks.v1+cell": {
     "cellMetadata": {
      "byteLimit": 2048000,
      "rowLimit": 10000
     },
     "inputWidgets": {},
     "nuid": "7675f171-b3da-45cb-8e56-9ba26e638cde",
     "showTitle": false,
     "tableResultSettingsMap": {},
     "title": ""
    }
   },
   "outputs": [],
   "source": [
    "multiple_updates = [\n",
    "  \"UPDATE tb_people SET birth = '1982-01-05', gender = 'male' WHERE id = 3\",\n",
    "  \"UPDATE tb_people SET gender = 'male' WHERE id = 2\"\n",
    "]\n",
    "\n",
    "execute_parallel_commands(multiple_updates)"
   ]
  },
  {
   "cell_type": "code",
   "execution_count": 0,
   "metadata": {
    "application/vnd.databricks.v1+cell": {
     "cellMetadata": {
      "byteLimit": 2048000,
      "rowLimit": 10000
     },
     "inputWidgets": {},
     "nuid": "871f0af5-a1dd-4495-ac67-d82403e659c5",
     "showTitle": false,
     "tableResultSettingsMap": {},
     "title": ""
    }
   },
   "outputs": [],
   "source": [
    "spark.sql('SELECT * FROM tb_people WHERE id IN (2,3)').show()"
   ]
  },
  {
   "cell_type": "code",
   "execution_count": 0,
   "metadata": {
    "application/vnd.databricks.v1+cell": {
     "cellMetadata": {
      "byteLimit": 2048000,
      "rowLimit": 10000
     },
     "inputWidgets": {},
     "nuid": "04c2b713-3d4d-441a-ac74-9bd33dedb69f",
     "showTitle": false,
     "tableResultSettingsMap": {},
     "title": ""
    }
   },
   "outputs": [],
   "source": [
    "multiple_updates_same_row = [\n",
    "  \"UPDATE tb_people SET ssn = '010-24-999' WHERE id = 1\",\n",
    "  \"UPDATE tb_people SET gender = 'male' WHERE id = 1\",\n",
    "]\n",
    "\n",
    "execute_parallel_commands(multiple_updates_same_row)"
   ]
  }
 ],
 "metadata": {
  "application/vnd.databricks.v1+notebook": {
   "computePreferences": null,
   "dashboards": [],
   "environmentMetadata": {
    "base_environment": "",
    "environment_version": "3"
   },
   "inputWidgetPreferences": null,
   "language": "python",
   "notebookMetadata": {
    "mostRecentlyExecutedCommandWithImplicitDF": {
     "commandId": 8088184299441550,
     "dataframes": [
      "_sqldf"
     ]
    },
    "pythonIndentUnit": 4
   },
   "notebookName": "03. ACID Transactions on Delta Lake",
   "widgets": {}
  },
  "language_info": {
   "name": "python"
  }
 },
 "nbformat": 4,
 "nbformat_minor": 0
}
